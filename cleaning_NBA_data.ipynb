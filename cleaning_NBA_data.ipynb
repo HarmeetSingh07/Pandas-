{
 "cells": [
  {
   "cell_type": "code",
   "execution_count": 1,
   "id": "d34cee6b",
   "metadata": {},
   "outputs": [],
   "source": [
    "import pandas as pd"
   ]
  },
  {
   "cell_type": "code",
   "execution_count": 2,
   "id": "f10d46b6",
   "metadata": {},
   "outputs": [
    {
     "data": {
      "text/html": [
       "<div>\n",
       "<style scoped>\n",
       "    .dataframe tbody tr th:only-of-type {\n",
       "        vertical-align: middle;\n",
       "    }\n",
       "\n",
       "    .dataframe tbody tr th {\n",
       "        vertical-align: top;\n",
       "    }\n",
       "\n",
       "    .dataframe thead th {\n",
       "        text-align: right;\n",
       "    }\n",
       "</style>\n",
       "<table border=\"1\" class=\"dataframe\">\n",
       "  <thead>\n",
       "    <tr style=\"text-align: right;\">\n",
       "      <th></th>\n",
       "      <th>Rk</th>\n",
       "      <th>Player</th>\n",
       "      <th>Pos</th>\n",
       "      <th>Age</th>\n",
       "      <th>Tm</th>\n",
       "      <th>G</th>\n",
       "      <th>GS</th>\n",
       "      <th>MP</th>\n",
       "      <th>FG</th>\n",
       "      <th>FGA</th>\n",
       "      <th>...</th>\n",
       "      <th>FT%</th>\n",
       "      <th>ORB</th>\n",
       "      <th>DRB</th>\n",
       "      <th>TRB</th>\n",
       "      <th>AST</th>\n",
       "      <th>STL</th>\n",
       "      <th>BLK</th>\n",
       "      <th>TOV</th>\n",
       "      <th>PF</th>\n",
       "      <th>PTS</th>\n",
       "    </tr>\n",
       "  </thead>\n",
       "  <tbody>\n",
       "    <tr>\n",
       "      <th>670</th>\n",
       "      <td>490</td>\n",
       "      <td>Thaddeus Young</td>\n",
       "      <td>PF</td>\n",
       "      <td>26</td>\n",
       "      <td>TOT</td>\n",
       "      <td>76</td>\n",
       "      <td>68</td>\n",
       "      <td>2434</td>\n",
       "      <td>451</td>\n",
       "      <td>968</td>\n",
       "      <td>...</td>\n",
       "      <td>.655</td>\n",
       "      <td>127</td>\n",
       "      <td>284</td>\n",
       "      <td>411</td>\n",
       "      <td>173</td>\n",
       "      <td>124</td>\n",
       "      <td>25</td>\n",
       "      <td>117</td>\n",
       "      <td>171</td>\n",
       "      <td>1071</td>\n",
       "    </tr>\n",
       "    <tr>\n",
       "      <th>671</th>\n",
       "      <td>490</td>\n",
       "      <td>Thaddeus Young</td>\n",
       "      <td>PF</td>\n",
       "      <td>26</td>\n",
       "      <td>MIN</td>\n",
       "      <td>48</td>\n",
       "      <td>48</td>\n",
       "      <td>1605</td>\n",
       "      <td>289</td>\n",
       "      <td>641</td>\n",
       "      <td>...</td>\n",
       "      <td>.682</td>\n",
       "      <td>75</td>\n",
       "      <td>170</td>\n",
       "      <td>245</td>\n",
       "      <td>135</td>\n",
       "      <td>86</td>\n",
       "      <td>17</td>\n",
       "      <td>75</td>\n",
       "      <td>115</td>\n",
       "      <td>685</td>\n",
       "    </tr>\n",
       "    <tr>\n",
       "      <th>672</th>\n",
       "      <td>490</td>\n",
       "      <td>Thaddeus Young</td>\n",
       "      <td>PF</td>\n",
       "      <td>26</td>\n",
       "      <td>BRK</td>\n",
       "      <td>28</td>\n",
       "      <td>20</td>\n",
       "      <td>829</td>\n",
       "      <td>162</td>\n",
       "      <td>327</td>\n",
       "      <td>...</td>\n",
       "      <td>.606</td>\n",
       "      <td>52</td>\n",
       "      <td>114</td>\n",
       "      <td>166</td>\n",
       "      <td>38</td>\n",
       "      <td>38</td>\n",
       "      <td>8</td>\n",
       "      <td>42</td>\n",
       "      <td>56</td>\n",
       "      <td>386</td>\n",
       "    </tr>\n",
       "    <tr>\n",
       "      <th>673</th>\n",
       "      <td>491</td>\n",
       "      <td>Cody Zeller</td>\n",
       "      <td>C</td>\n",
       "      <td>22</td>\n",
       "      <td>CHO</td>\n",
       "      <td>62</td>\n",
       "      <td>45</td>\n",
       "      <td>1487</td>\n",
       "      <td>172</td>\n",
       "      <td>373</td>\n",
       "      <td>...</td>\n",
       "      <td>.774</td>\n",
       "      <td>97</td>\n",
       "      <td>265</td>\n",
       "      <td>362</td>\n",
       "      <td>100</td>\n",
       "      <td>34</td>\n",
       "      <td>49</td>\n",
       "      <td>62</td>\n",
       "      <td>156</td>\n",
       "      <td>472</td>\n",
       "    </tr>\n",
       "    <tr>\n",
       "      <th>674</th>\n",
       "      <td>492</td>\n",
       "      <td>Tyler Zeller</td>\n",
       "      <td>C</td>\n",
       "      <td>25</td>\n",
       "      <td>BOS</td>\n",
       "      <td>82</td>\n",
       "      <td>59</td>\n",
       "      <td>1731</td>\n",
       "      <td>340</td>\n",
       "      <td>619</td>\n",
       "      <td>...</td>\n",
       "      <td>.823</td>\n",
       "      <td>146</td>\n",
       "      <td>319</td>\n",
       "      <td>465</td>\n",
       "      <td>113</td>\n",
       "      <td>18</td>\n",
       "      <td>52</td>\n",
       "      <td>76</td>\n",
       "      <td>205</td>\n",
       "      <td>833</td>\n",
       "    </tr>\n",
       "  </tbody>\n",
       "</table>\n",
       "<p>5 rows × 30 columns</p>\n",
       "</div>"
      ],
      "text/plain": [
       "      Rk          Player Pos Age   Tm   G  GS    MP   FG  FGA  ...   FT%  ORB  \\\n",
       "670  490  Thaddeus Young  PF  26  TOT  76  68  2434  451  968  ...  .655  127   \n",
       "671  490  Thaddeus Young  PF  26  MIN  48  48  1605  289  641  ...  .682   75   \n",
       "672  490  Thaddeus Young  PF  26  BRK  28  20   829  162  327  ...  .606   52   \n",
       "673  491     Cody Zeller   C  22  CHO  62  45  1487  172  373  ...  .774   97   \n",
       "674  492    Tyler Zeller   C  25  BOS  82  59  1731  340  619  ...  .823  146   \n",
       "\n",
       "     DRB  TRB  AST  STL BLK  TOV   PF   PTS  \n",
       "670  284  411  173  124  25  117  171  1071  \n",
       "671  170  245  135   86  17   75  115   685  \n",
       "672  114  166   38   38   8   42   56   386  \n",
       "673  265  362  100   34  49   62  156   472  \n",
       "674  319  465  113   18  52   76  205   833  \n",
       "\n",
       "[5 rows x 30 columns]"
      ]
     },
     "execution_count": 2,
     "metadata": {},
     "output_type": "execute_result"
    }
   ],
   "source": [
    "url = \"http://www.basketball-reference.com/leagues/NBA_2015_totals.html\"\n",
    "a = pd.read_html(url)\n",
    "a[0].tail()\n",
    "#a[0].isnull().sum()\n"
   ]
  },
  {
   "cell_type": "code",
   "execution_count": 3,
   "id": "dde87570",
   "metadata": {},
   "outputs": [
    {
     "data": {
      "text/plain": [
       "Rk         0.00\n",
       "Player     0.00\n",
       "Pos        0.00\n",
       "Age        0.00\n",
       "Tm         0.00\n",
       "G          0.00\n",
       "GS         0.00\n",
       "MP         0.00\n",
       "FG         0.00\n",
       "FGA        0.00\n",
       "FG%        0.30\n",
       "3P         0.00\n",
       "3PA        0.00\n",
       "3P%       12.00\n",
       "2P         0.00\n",
       "2PA        0.00\n",
       "2P%        0.59\n",
       "eFG%       0.30\n",
       "FT         0.00\n",
       "FTA        0.00\n",
       "FT%        3.70\n",
       "ORB        0.00\n",
       "DRB        0.00\n",
       "TRB        0.00\n",
       "AST        0.00\n",
       "STL        0.00\n",
       "BLK        0.00\n",
       "TOV        0.00\n",
       "PF         0.00\n",
       "PTS        0.00\n",
       "dtype: float64"
      ]
     },
     "execution_count": 3,
     "metadata": {},
     "output_type": "execute_result"
    }
   ],
   "source": [
    "x=((a[0].isnull().sum())/675)*100\n",
    "round(x,2)"
   ]
  },
  {
   "cell_type": "code",
   "execution_count": 4,
   "id": "c092fb39",
   "metadata": {},
   "outputs": [],
   "source": [
    "df=a[0]"
   ]
  },
  {
   "cell_type": "code",
   "execution_count": 5,
   "id": "a4c9dcd5",
   "metadata": {},
   "outputs": [
    {
     "data": {
      "text/plain": [
       "675"
      ]
     },
     "execution_count": 5,
     "metadata": {},
     "output_type": "execute_result"
    }
   ],
   "source": [
    "Age= []\n",
    "x=list(df[\"Age\"])\n",
    "for i in x:\n",
    "    if i=='Age':\n",
    "        Age.append('23')\n",
    "    else:\n",
    "        Age.append(i)\n",
    "len(Age)"
   ]
  },
  {
   "cell_type": "code",
   "execution_count": 6,
   "id": "f40e83be",
   "metadata": {},
   "outputs": [],
   "source": [
    "df['age']=pd.Series(Age)\n",
    "df.drop(columns=['Age'],inplace=True)"
   ]
  },
  {
   "cell_type": "code",
   "execution_count": 7,
   "id": "95571c05",
   "metadata": {},
   "outputs": [],
   "source": [
    "df['age']=df['age'].astype(int)"
   ]
  },
  {
   "cell_type": "code",
   "execution_count": 8,
   "id": "4e36281b",
   "metadata": {},
   "outputs": [
    {
     "name": "stdout",
     "output_type": "stream",
     "text": [
      "<class 'pandas.core.frame.DataFrame'>\n",
      "RangeIndex: 675 entries, 0 to 674\n",
      "Data columns (total 30 columns):\n",
      " #   Column  Non-Null Count  Dtype \n",
      "---  ------  --------------  ----- \n",
      " 0   Rk      675 non-null    object\n",
      " 1   Player  675 non-null    object\n",
      " 2   Pos     675 non-null    object\n",
      " 3   Tm      675 non-null    object\n",
      " 4   G       675 non-null    object\n",
      " 5   GS      675 non-null    object\n",
      " 6   MP      675 non-null    object\n",
      " 7   FG      675 non-null    object\n",
      " 8   FGA     675 non-null    object\n",
      " 9   FG%     673 non-null    object\n",
      " 10  3P      675 non-null    object\n",
      " 11  3PA     675 non-null    object\n",
      " 12  3P%     594 non-null    object\n",
      " 13  2P      675 non-null    object\n",
      " 14  2PA     675 non-null    object\n",
      " 15  2P%     671 non-null    object\n",
      " 16  eFG%    673 non-null    object\n",
      " 17  FT      675 non-null    object\n",
      " 18  FTA     675 non-null    object\n",
      " 19  FT%     650 non-null    object\n",
      " 20  ORB     675 non-null    object\n",
      " 21  DRB     675 non-null    object\n",
      " 22  TRB     675 non-null    object\n",
      " 23  AST     675 non-null    object\n",
      " 24  STL     675 non-null    object\n",
      " 25  BLK     675 non-null    object\n",
      " 26  TOV     675 non-null    object\n",
      " 27  PF      675 non-null    object\n",
      " 28  PTS     675 non-null    object\n",
      " 29  age     675 non-null    int32 \n",
      "dtypes: int32(1), object(29)\n",
      "memory usage: 155.7+ KB\n"
     ]
    }
   ],
   "source": [
    "df.info()"
   ]
  },
  {
   "cell_type": "code",
   "execution_count": 9,
   "id": "cb32819c",
   "metadata": {},
   "outputs": [
    {
     "data": {
      "text/plain": [
       "81"
      ]
     },
     "execution_count": 9,
     "metadata": {},
     "output_type": "execute_result"
    }
   ],
   "source": [
    "df['3P%'].isnull().sum()"
   ]
  },
  {
   "cell_type": "code",
   "execution_count": 10,
   "id": "019fcfba",
   "metadata": {},
   "outputs": [],
   "source": [
    "df['3P%']=df['3P%'].fillna('.000')"
   ]
  },
  {
   "cell_type": "code",
   "execution_count": 11,
   "id": "d7e8d070",
   "metadata": {},
   "outputs": [
    {
     "data": {
      "text/plain": [
       "675"
      ]
     },
     "execution_count": 11,
     "metadata": {},
     "output_type": "execute_result"
    }
   ],
   "source": [
    "p= []\n",
    "x=list(df[\"3P%\"])\n",
    "for i in x:\n",
    "    if i=='3P%':\n",
    "        p.append('.001')\n",
    "    else:\n",
    "        p.append(i)\n",
    "len(p)"
   ]
  },
  {
   "cell_type": "code",
   "execution_count": 12,
   "id": "0e9b88e5",
   "metadata": {},
   "outputs": [],
   "source": [
    "df['3p%']=pd.Series(p)\n",
    "df.drop(columns=['3P%'],inplace=True)"
   ]
  },
  {
   "cell_type": "code",
   "execution_count": 13,
   "id": "4df4873f",
   "metadata": {},
   "outputs": [
    {
     "data": {
      "text/plain": [
       "array(['.300', '.400', '.000', '.354', '.337', '.352', '.345', '.274',\n",
       "       '.308', '.348', '.273', '.340', '.159', '.341', '.001', '.301',\n",
       "       '.350', '.236', '.327', '.513', '.384', '.323', '.366', '.405',\n",
       "       '.362', '.500', '.271', '.222', '.284', '.281', '.324', '.250',\n",
       "       '.364', '.409', '.235', '.374', '.304', '.356', '.200', '.355',\n",
       "       '.365', '.375', '.268', '.195', '.387', '.371', '.214', '.266',\n",
       "       '.429', '.293', '.326', '.385', '.318', '.382', '.379', '.378',\n",
       "       '.636', '.667', '.256', '.415', '.370', '.381', '.395', '.297',\n",
       "       '.143', '.402', '.294', '.342', '.286', '.333', '.360', '.314',\n",
       "       '.545', '.313', '.265', '.373', '.267', '.386', '.311', '.353',\n",
       "       '.282', '.100', '.443', '.302', '.472', '.450', '.233', '.083',\n",
       "       '.167', '.338', '.357', '.407', '.320', '.185', '.278', '.347',\n",
       "       '.329', '.154', '.403', '.262', '.285', '.279', '.270', '.125',\n",
       "       '.361', '.188', '.317', '.750', '.393', '.176', '.462', '.359',\n",
       "       '.417', '.390', '.448', '.418', '.298', '.332', '.305', '.476',\n",
       "       '.316', '.179', '.204', '.369', '.331', '.358', '.321', '.306',\n",
       "       '.376', '.349', '.389', '.299', '.133', '.426', '.404', '.368',\n",
       "       '.406', '.067', '.077', '.413', '.295', '.216', '.238', '.351',\n",
       "       '.296', '.336', '.492', '.420', '.241', '.343', '.367', '.310',\n",
       "       '.315', '.182', '.261', '.391', '.307', '.396', '.287', '.421',\n",
       "       '.206', '.231', '.212', '.434', '.392', '.485', '.380', '.339',\n",
       "       '.292', '.427', '.398', '.111', '.433', '.246', '.263', '.275',\n",
       "       '.463', '.455', '.625', '.423', '.437', '.280', '.309', '.247',\n",
       "       '.277', '.372', '.255', '.244', '.344', '.335', '.383', '.243',\n",
       "       '.330', '.322', '.171', '.283', '.401', '.439', '.419', '.105',\n",
       "       '.432', '.319', '.444', '.714', '.158', '.258', '1.000'],\n",
       "      dtype=object)"
      ]
     },
     "execution_count": 13,
     "metadata": {},
     "output_type": "execute_result"
    }
   ],
   "source": [
    "df['3p%'].unique()"
   ]
  },
  {
   "cell_type": "code",
   "execution_count": 14,
   "id": "8b72c083",
   "metadata": {},
   "outputs": [
    {
     "data": {
      "text/plain": [
       "0      0.300\n",
       "1      0.400\n",
       "2      0.000\n",
       "3      0.000\n",
       "4      0.354\n",
       "       ...  \n",
       "670    0.330\n",
       "671    0.292\n",
       "672    0.380\n",
       "673    1.000\n",
       "674    0.000\n",
       "Name: 3p%, Length: 675, dtype: float64"
      ]
     },
     "execution_count": 14,
     "metadata": {},
     "output_type": "execute_result"
    }
   ],
   "source": [
    "df['3p%']=df['3p%'].astype(float)\n",
    "df['3p%']"
   ]
  }
 ],
 "metadata": {
  "kernelspec": {
   "display_name": "Python 3",
   "language": "python",
   "name": "python3"
  },
  "language_info": {
   "codemirror_mode": {
    "name": "ipython",
    "version": 3
   },
   "file_extension": ".py",
   "mimetype": "text/x-python",
   "name": "python",
   "nbconvert_exporter": "python",
   "pygments_lexer": "ipython3",
   "version": "3.8.8"
  }
 },
 "nbformat": 4,
 "nbformat_minor": 5
}
